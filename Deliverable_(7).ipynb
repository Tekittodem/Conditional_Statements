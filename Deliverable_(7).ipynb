{
  "nbformat": 4,
  "nbformat_minor": 0,
  "metadata": {
    "colab": {
      "provenance": [],
      "authorship_tag": "ABX9TyN95TmRyNV6K2T9QNzMB/FW",
      "include_colab_link": true
    },
    "kernelspec": {
      "name": "python3",
      "display_name": "Python 3"
    },
    "language_info": {
      "name": "python"
    }
  },
  "cells": [
    {
      "cell_type": "markdown",
      "metadata": {
        "id": "view-in-github",
        "colab_type": "text"
      },
      "source": [
        "<a href=\"https://colab.research.google.com/github/Tekittodem/Conditional_Statements/blob/master/Deliverable_(7).ipynb\" target=\"_parent\"><img src=\"https://colab.research.google.com/assets/colab-badge.svg\" alt=\"Open In Colab\"/></a>"
      ]
    },
    {
      "cell_type": "code",
      "source": [
        "import pandas as pd\n"
      ],
      "metadata": {
        "id": "sAc8XRPO7qvC"
      },
      "execution_count": 3,
      "outputs": []
    },
    {
      "cell_type": "code",
      "source": [
        "n = int(input(\"Enter a positive integer: \"))"
      ],
      "metadata": {
        "colab": {
          "base_uri": "https://localhost:8080/"
        },
        "id": "cgsj49z370rP",
        "outputId": "8f1757bb-26cf-458e-84f7-8689b50f3b21"
      },
      "execution_count": 4,
      "outputs": [
        {
          "name": "stdout",
          "output_type": "stream",
          "text": [
            "Enter a positive integer: 2\n"
          ]
        }
      ]
    },
    {
      "cell_type": "code",
      "source": [
        "if n <= 0:\n",
        " print(\"Invalid input!\")\n",
        "\n"
      ],
      "metadata": {
        "id": "VwA7okkP1D8b"
      },
      "execution_count": 19,
      "outputs": []
    },
    {
      "cell_type": "code",
      "source": [
        "\n",
        " even = [i*2 for i in range(n)]\n",
        " odd = [i*2+1 for i in range(n)]\n",
        " fib = [0, 1]\n",
        " for i in range(2, n):\n",
        "    fib.append(fib[i-1] + fib[i-2])"
      ],
      "metadata": {
        "id": "epXYf7wc188Y"
      },
      "execution_count": 27,
      "outputs": []
    },
    {
      "cell_type": "code",
      "source": [
        "data = {\"Even\": even, \"Odd\": odd, \"Fibonacci\": fib}\n",
        "df = pd.DataFrame(data)"
      ],
      "metadata": {
        "id": "SX0o9G2538r0"
      },
      "execution_count": 28,
      "outputs": []
    },
    {
      "cell_type": "code",
      "source": [
        "print(df)"
      ],
      "metadata": {
        "colab": {
          "base_uri": "https://localhost:8080/"
        },
        "id": "i_X1zJz24MKk",
        "outputId": "96546592-169b-44b4-afa8-a7741f639867"
      },
      "execution_count": 29,
      "outputs": [
        {
          "output_type": "stream",
          "name": "stdout",
          "text": [
            "   Even  Odd  Fibonacci\n",
            "0     0    1          0\n",
            "1     2    3          1\n"
          ]
        }
      ]
    }
  ]
}