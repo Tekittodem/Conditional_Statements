{
  "nbformat": 4,
  "nbformat_minor": 0,
  "metadata": {
    "colab": {
      "provenance": [],
      "history_visible": true,
      "authorship_tag": "ABX9TyNuDdOPFUK7UEoFhItGPA9W",
      "include_colab_link": true
    },
    "kernelspec": {
      "name": "python3",
      "display_name": "Python 3"
    },
    "language_info": {
      "name": "python"
    }
  },
  "cells": [
    {
      "cell_type": "markdown",
      "metadata": {
        "id": "view-in-github",
        "colab_type": "text"
      },
      "source": [
        "<a href=\"https://colab.research.google.com/github/Tekittodem/Conditional_Statements/blob/master/Deliverable_(8).ipynb\" target=\"_parent\"><img src=\"https://colab.research.google.com/assets/colab-badge.svg\" alt=\"Open In Colab\"/></a>"
      ]
    },
    {
      "cell_type": "code",
      "execution_count": 8,
      "metadata": {
        "id": "4ERS_tyX92Wq"
      },
      "outputs": [],
      "source": [
        "import numpy as np\n"
      ]
    },
    {
      "cell_type": "code",
      "source": [
        "def generate_list(length):\n",
        "    return np.random.randint(10, 51, size=length)\n"
      ],
      "metadata": {
        "id": "oAi8NkzE-vcN"
      },
      "execution_count": 9,
      "outputs": []
    },
    {
      "cell_type": "code",
      "source": [
        "def sum_list(lst):\n",
        "    return sum(lst)"
      ],
      "metadata": {
        "id": "veqwurp1-_ZJ"
      },
      "execution_count": 10,
      "outputs": []
    },
    {
      "cell_type": "code",
      "source": [
        "while True:\n",
        "    num = int(input(\"Enter an integer number between 5 and 15: \"))\n",
        "    if 5 <= num <= 15:\n",
        "        break\n",
        "    print(\"Invalid entry. Please enter a number between 5 and 15.\")\n",
        "    "
      ],
      "metadata": {
        "colab": {
          "base_uri": "https://localhost:8080/"
        },
        "id": "rSDzfoKUACBR",
        "outputId": "c84873b0-eb1c-4fa1-a19d-9c0a1d1173ce"
      },
      "execution_count": 11,
      "outputs": [
        {
          "name": "stdout",
          "output_type": "stream",
          "text": [
            "Enter an integer number between 5 and 15: 5\n"
          ]
        }
      ]
    },
    {
      "cell_type": "code",
      "source": [
        "lst = generate_list(num)\n",
        "print(\"The elements of the array are:\", *lst)\n",
        "sum_of_list = sum_list(lst)\n",
        "print(\"The sum is:\", sum_of_list)\n"
      ],
      "metadata": {
        "colab": {
          "base_uri": "https://localhost:8080/"
        },
        "id": "D1DCoDOzAKtV",
        "outputId": "99426351-b23e-4b94-8c30-7efa627f12c8"
      },
      "execution_count": 12,
      "outputs": [
        {
          "output_type": "stream",
          "name": "stdout",
          "text": [
            "The elements of the array are: 28 34 18 15 18\n",
            "The sum is: 113\n"
          ]
        }
      ]
    }
  ]
}